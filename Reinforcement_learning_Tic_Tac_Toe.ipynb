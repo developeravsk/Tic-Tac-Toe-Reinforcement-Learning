{
  "nbformat": 4,
  "nbformat_minor": 0,
  "metadata": {
    "kernelspec": {
      "display_name": "Python 3",
      "language": "python",
      "name": "python3"
    },
    "language_info": {
      "codemirror_mode": {
        "name": "ipython",
        "version": 3
      },
      "file_extension": ".py",
      "mimetype": "text/x-python",
      "name": "python",
      "nbconvert_exporter": "python",
      "pygments_lexer": "ipython3",
      "version": "3.6.9"
    },
    "colab": {
      "name": "Reinforcement learning Tic Tac Toe.ipynb",
      "provenance": [],
      "include_colab_link": true
    }
  },
  "cells": [
    {
      "cell_type": "markdown",
      "metadata": {
        "id": "view-in-github",
        "colab_type": "text"
      },
      "source": [
        "<a href=\"https://colab.research.google.com/github/developeravsk/Tic-Tac-Toe-Reinforcement-Learning/blob/main/Reinforcement_learning_Tic_Tac_Toe.ipynb\" target=\"_parent\"><img src=\"https://colab.research.google.com/assets/colab-badge.svg\" alt=\"Open In Colab\"/></a>"
      ]
    },
    {
      "cell_type": "markdown",
      "metadata": {
        "id": "0KKIOGGXgsLR"
      },
      "source": [
        "# Reinforcement learning exercise: tic-tac-toe with Q-learning\n",
        "\n",
        "Today we'll get an understanding of one of the common methods for reinforcement learning\n",
        "when the state is observable and relatively small but the state transition function and\n",
        "reward function are unknown.\n",
        "\n",
        "We'll play two tic-tac-toe agents against each other. They will start out with random\n",
        "policies and gradually improve them.\n",
        "\n",
        "Even though tic-tac-toe has a known state transition function and a known reward function,\n",
        "we'll pretend that's not the case. We'll use Q-learning:\n",
        "\n",
        "**Output**: action value function $Q$\n",
        "\n",
        "**Steps**:\n",
        "\n",
        "1. Initialize $Q$ arbitrarily, e.g., to 0, and set action value for terminal states to 0.\n",
        "2. For each episode do\n",
        "   1. Initialize state $s$\n",
        "   2. For each step of episode, state $s$ is not terminal do\n",
        "      1. $a \\leftarrow$ action for $s$ derived by $Q$, e.g., using $\\epsilon$-greedy\n",
        "      2. Take action $a$ and observe $r$ and $s'$\n",
        "      3. $Q(s,a) \\leftarrow Q(s,a) + \\alpha \\left[ r + \\gamma \\max_{a'} Q(s', a') - Q(s, a) \\right]$\n",
        "      \n",
        "For tic-tac-toe, though, to get our agent to learn, it needs an opponent.\n",
        "So we will interleave optimization of player X with that or player O. Both X and O will have their own Q\n",
        "table and their own reward function.\n",
        "\n",
        "First, some functions that will be needed:"
      ]
    },
    {
      "cell_type": "code",
      "metadata": {
        "id": "LzbZCKTYgsLY"
      },
      "source": [
        "import itertools\n",
        "import re\n",
        "import random\n",
        "import numpy as np\n",
        "\n",
        "# Enumerate all possible states ('         ', '    X    ', etc.)\n",
        "\n",
        "def get_all_states():\n",
        "    symbols = [' ', 'X', 'O']\n",
        "    return [''.join(i) for i in itertools.product(symbols, repeat = 9)]\n",
        "\n",
        "# Determine whether state is win for X\n",
        "\n",
        "def is_win_X(s):\n",
        "    return bool(re.search('^XXX', s) or re.search('^...XXX', s) or re.search('^......XXX', s) or \\\n",
        "                re.search('^X..X..X', s) or re.search('^.X..X..X', s) or re.search('^..X..X..X', s) or \\\n",
        "                re.search('X...X...X', s) or re.search('..X.X.X', s))\n",
        "\n",
        "# Determine whether state is win for O\n",
        "\n",
        "def is_win_O(s):\n",
        "    return bool(re.search('^OOO', s) or re.search('^...OOO', s) or re.search('^......OOO', s) or \\\n",
        "                re.search('^O..O..O', s) or re.search('^.O..O..O', s) or re.search('^..O..O..O', s) or \\\n",
        "                re.search('O...O...O', s) or re.search('  O.O.O', s))\n",
        "\n",
        "# Determine whether state is draw\n",
        "\n",
        "def is_draw(s):\n",
        "    return bool(re.search('^[OX][OX][OX][OX][OX][OX][OX][OX][OX]', s))\n",
        "\n",
        "# Find all terminal states\n",
        "\n",
        "def get_terminal_states(all_states):\n",
        "    terminal_states = {}\n",
        "    for s in all_states:\n",
        "        if is_win_X(s) or is_win_O(s) or is_draw(s):\n",
        "            terminal_states[s] = True\n",
        "        else:\n",
        "            terminal_states[s] = False\n",
        "    return terminal_states\n",
        "\n",
        "# Extend state s with action a for player p\n",
        "# s: element of [ XO]^9\n",
        "# a: integer 0 to 8\n",
        "# p: 'X' or 'O'\n",
        "\n",
        "def extend(s, a, p):\n",
        "    if s[a] != ' ':\n",
        "        raise Exception('space already taken!')\n",
        "    return s[:a] + p + s[a+1:]\n",
        "\n",
        "# Return the set of legal actions for state s as an array of inidices 0 to 8\n",
        "\n",
        "def valid_actions(s):\n",
        "    return [pos for pos, char in enumerate(s) if char == ' ']\n",
        "\n",
        "# Initialize and return an action value table Q[s,a] for all possible state-action pairs\n",
        "\n",
        "def init_q():\n",
        "    Q = {}\n",
        "    for s in all_states:\n",
        "        for a in range(9):\n",
        "            Q[s,a] = 0\n",
        "    return Q\n",
        "\n",
        "# Select an action to perform in state s for player p according to action value Q\n",
        "\n",
        "def epsilon_greedy(s, Q, epsilon):\n",
        "    actions = valid_actions(s)\n",
        "    if len(actions) == 0:\n",
        "        return None\n",
        "    if random.random() < epsilon:\n",
        "        # With probility epsilon, sample uniformly from the valid actions\n",
        "        return random.choice(actions)\n",
        "    else:\n",
        "        # With probability 1-epsilon, select current best actions (selecting randomly for any ties)\n",
        "        values = list(map(lambda a: Q[s,a], actions))\n",
        "        actions_max_value = np.argwhere(values == np.max(values)).flatten()\n",
        "        return actions[random.choice(actions_max_value)]\n",
        "\n",
        "# Get reward for entering state s for player p\n",
        "\n",
        "def reward(s, p):\n",
        "    if not terminal_states[s]:\n",
        "        return 0\n",
        "    elif is_win_X(s):\n",
        "        return 100 if p=='X' else 0\n",
        "    elif is_win_O(s):\n",
        "        return 100 if p=='O' else 0\n",
        "    elif is_draw(s):\n",
        "        return 50\n",
        "    raise Exception('unexpected terminal state ' + s)\n",
        "            \n",
        "# Perform action a in state s and return new state and reward\n",
        "\n",
        "def perform(s, a, p, terminal_states, Q_opponent):\n",
        "    new_state = extend(s, a, p)\n",
        "    if terminal_states[new_state]:\n",
        "        return new_state, reward(new_state, p)\n",
        "    else:\n",
        "        # Assume opponent takes pure greedy step (epsilon=0)\n",
        "        opponent_action = epsilon_greedy(new_state, Q_opponent, 0)\n",
        "        new_state = extend(new_state, opponent_action, ('O' if p=='X' else 'X'))\n",
        "        if terminal_states[new_state]:\n",
        "            return new_state, reward(new_state, p)\n",
        "        else:\n",
        "            return new_state, 0"
      ],
      "execution_count": 1,
      "outputs": []
    },
    {
      "cell_type": "markdown",
      "metadata": {
        "id": "jZLY3ctwgsLc"
      },
      "source": [
        "Now that we have all the utility functions in place, here's code to run Q-learning on a series of games.\n",
        "First X plays against the naive (initially random) O and optimizes its action value table a bit if it gets\n",
        "positive feedback (a win or a draw). Then O plays against the slightly optimized X, optimizing its action\n",
        "value table a bit. This continues for some number of iterations.\n",
        "\n",
        "I found that player O when optimized for 100,000 games in this way played about as well as a 3-year-old,\n",
        "making mistakes sometimes. After 1,000,000 games, however, the player is unbeatable."
      ]
    },
    {
      "cell_type": "code",
      "metadata": {
        "colab": {
          "base_uri": "https://localhost:8080/",
          "height": 279
        },
        "id": "I5GvzqMSgsLd",
        "outputId": "3bc94644-6af0-451c-dfef-9359f37994b7"
      },
      "source": [
        "import matplotlib.pyplot as plt\n",
        "from IPython import display\n",
        "%matplotlib inline\n",
        "\n",
        "# Run Q learning for some number of games. We'll alternate between optimizing\n",
        "# X and O as they play each other.\n",
        "\n",
        "epsilon = 0.1\n",
        "all_states = get_all_states()\n",
        "terminal_states = get_terminal_states(all_states)\n",
        "N_games = 1000000\n",
        "alpha = 0.1\n",
        "gamma = 0.9\n",
        "\n",
        "# 1. Initialize Q\n",
        "Q_X = init_q()\n",
        "Q_O = init_q()\n",
        "\n",
        "# 2. For each episode\n",
        "changes_Q = []\n",
        "report_interval = 1000\n",
        "for g in range(0,N_games):\n",
        "    \n",
        "    if g % report_interval == 0:\n",
        "        change_Q = 0\n",
        "    \n",
        "    # Play once with X as learner:\n",
        "    # 2.1 Initialize state\n",
        "    s = '         '\n",
        "    # 2.2 For each step of episode, not terminal state\n",
        "    while not terminal_states[s]:\n",
        "        # 2.2.1 Get epsilon greedy action\n",
        "        a = epsilon_greedy(s, Q_X, epsilon)\n",
        "        # 2.2.2 Take action a, observing s', r\n",
        "        s_prime, r = perform(s, a, 'X', terminal_states, Q_O)\n",
        "        # 2.2.3 Q(s,a) <- Q(s,a) + alpha [r + gamma max_a' Q(s',a') - Q(s,a)]\n",
        "        a_prime = epsilon_greedy(s_prime, Q_X, 0)\n",
        "        max_value_s_prime = 0 if a_prime == None else Q_X[s_prime, a_prime]\n",
        "        new_Q = Q_X[s, a] + alpha * (r + gamma * max_value_s_prime - Q_X[s, a])\n",
        "        change_Q = change_Q + abs(Q_X[s, a] - new_Q)\n",
        "        Q_X[s, a] = new_Q\n",
        "        # Set up for next iteration\n",
        "        s = s_prime\n",
        "            \n",
        "    # Play once with O as learner:\n",
        "    s = '         '\n",
        "    opponent_a = epsilon_greedy(s, Q_X, 0)\n",
        "    s = extend(s, a, 'X')\n",
        "    while not terminal_states[s]:\n",
        "        a = epsilon_greedy(s, Q_O, epsilon)\n",
        "        s_prime, r = perform(s, a, 'O', terminal_states, Q_X)\n",
        "        a_prime = epsilon_greedy(s_prime, Q_O, 0)\n",
        "        max_value_s_prime = 0 if a_prime == None else Q_O[s_prime, a_prime]\n",
        "        new_Q = Q_O[s, a] + alpha * (r + gamma * max_value_s_prime - Q_O[s, a])\n",
        "        change_Q = change_Q + abs(Q_O[s, a] - new_Q)\n",
        "        Q_O[s, a] = new_Q\n",
        "        s = s_prime\n",
        "        \n",
        "    if g % report_interval == report_interval - 1:\n",
        "        changes_Q.append(change_Q / report_interval)\n",
        "        plt.clf()\n",
        "        plt.plot(changes_Q, 'b-')\n",
        "        plt.xlabel('Epoch (%d games each)' % (report_interval))\n",
        "        plt.ylabel('Average change in Q')\n",
        "        display.display(plt.gcf())\n",
        "        display.clear_output(wait=True)\n"
      ],
      "execution_count": 2,
      "outputs": [
        {
          "output_type": "display_data",
          "data": {
            "image/png": "[encoded data removed]",
            "text/plain": [
              "<Figure size 432x288 with 1 Axes>"
            ]
          },
          "metadata": {
            "needs_background": "light"
          }
        }
      ]
    },
    {
      "cell_type": "markdown",
      "metadata": {
        "id": "8iYdU_89gsLe"
      },
      "source": [
        "Here's some code to let you play against the optimized O player. You can write your own\n",
        "version to play against the optimized X player."
      ]
    },
    {
      "cell_type": "code",
      "metadata": {
        "colab": {
          "base_uri": "https://localhost:8080/"
        },
        "id": "RmSLx_VigsLf",
        "outputId": "30594bc1-a630-4a27-9e88-39cc7f2998c1"
      },
      "source": [
        "# Play the optimized agent\n",
        "\n",
        "def print_board(s):\n",
        "    print('%s|%s|%s' % (s[0], s[1], s[2]))\n",
        "    print('-+-+-')\n",
        "    print('%s|%s|%s' % (s[3], s[4], s[5]))\n",
        "    print('-+-+-')\n",
        "    print('%s|%s|%s' % (s[6], s[7], s[8]))\n",
        "\n",
        "s = '         '\n",
        "while not terminal_states[s]:\n",
        "    print_board(s)\n",
        "    actions = valid_actions(s)\n",
        "    action = None\n",
        "    while not action in actions:\n",
        "        print('Enter your move (', actions, '):')\n",
        "        action = int(input())\n",
        "        if not action in actions:\n",
        "            print('Invalid move!')\n",
        "    s, r = perform(s, action, 'X', terminal_states, Q_O)\n",
        "\n",
        "print_board(s)\n",
        "if is_win_X(s):\n",
        "    print('You win!')\n",
        "elif is_win_O(s):\n",
        "    print('You lose!')\n",
        "else:\n",
        "    print('Draw!')\n"
      ],
      "execution_count": 5,
      "outputs": [
        {
          "output_type": "stream",
          "name": "stdout",
          "text": [
            " | | \n",
            "-+-+-\n",
            " | | \n",
            "-+-+-\n",
            " | | \n",
            "Enter your move ( [0, 1, 2, 3, 4, 5, 6, 7, 8] ):\n",
            "0\n",
            "X| | \n",
            "-+-+-\n",
            " |O| \n",
            "-+-+-\n",
            " | | \n",
            "Enter your move ( [1, 2, 3, 5, 6, 7, 8] ):\n",
            "2\n",
            "X|O|X\n",
            "-+-+-\n",
            " |O| \n",
            "-+-+-\n",
            " | | \n",
            "Enter your move ( [3, 5, 6, 7, 8] ):\n",
            "7\n",
            "X|O|X\n",
            "-+-+-\n",
            "O|O| \n",
            "-+-+-\n",
            " |X| \n",
            "Enter your move ( [5, 6, 8] ):\n",
            "5\n",
            "X|O|X\n",
            "-+-+-\n",
            "O|O|X\n",
            "-+-+-\n",
            " |X|O\n",
            "Enter your move ( [6] ):\n",
            "6\n",
            "X|O|X\n",
            "-+-+-\n",
            "O|O|X\n",
            "-+-+-\n",
            "X|X|O\n",
            "Draw!\n"
          ]
        }
      ]
    },
    {
      "cell_type": "markdown",
      "metadata": {
        "id": "mLQBp3qxgsLg"
      },
      "source": [
        "That's it! You have seen the amazing power of learning from scratch via reinforcement.\n",
        "\n",
        "Note the limitations, however:\n",
        "1. The state is fully observable\n",
        "2. All possible states can be exhaustively represented in tabular form\n",
        "3. All possible state-action pairs fit in memory\n",
        "4. It must be possible for the agent to try a lot of possibilities, meaning we need a really fast simulator for the environment.\n",
        "\n",
        "If the state is not observable, Q-learning in this for is not usable.\n",
        "\n",
        "Also, if we can't accurately and quickly simulate the agent's environment, we can't use Q-learning.\n",
        "\n",
        "Finally, the size of the state table is the biggest limitation.\n",
        "\n",
        "The state table is going to grow exponentially in the number of dimensions. For example, the number\n",
        "of board states in chess (including impossible states) is $6^{64}$. With 16 possible moves and a 4-byte float for each state-action pair, the Q table would\n",
        "be $4 \\cdot 8 \\cdot 6^{64} \\approx 2^{170}$ bytes! Noboody has that much RAM, and the sun will probably eat\n",
        "the Earth before you could get accurate Q values for every one of the valid state-action pairs. Go is even worse: a 19x19 board's Q table would require about $2^{583}$ bytes!\n",
        "\n",
        "So the first thing we need to understand is how to approximate $Q[s,a]$ rather than enumerate it in a table."
      ]
    },
    {
      "cell_type": "code",
      "metadata": {
        "id": "JCKsxxq_gsLg"
      },
      "source": [
        ""
      ],
      "execution_count": null,
      "outputs": []
    }
  ]
}